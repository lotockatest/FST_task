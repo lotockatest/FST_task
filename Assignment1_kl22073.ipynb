{
  "nbformat": 4,
  "nbformat_minor": 0,
  "metadata": {
    "colab": {
      "provenance": []
    },
    "kernelspec": {
      "name": "python3",
      "display_name": "Python 3"
    },
    "language_info": {
      "name": "python"
    }
  },
  "cells": [
    {
      "cell_type": "markdown",
      "source": [
        "# Assignment 1"
      ],
      "metadata": {
        "id": "4doVwHqc84g3"
      }
    },
    {
      "cell_type": "code",
      "source": [
        "# Set up all necessary imports\n",
        "!pip install hfst\n",
        "import hfst\n",
        "from IPython.display import Image\n",
        "from hfst import compile_lexc_file\n",
        "from hfst import regex, HfstTransducer"
      ],
      "metadata": {
        "id": "5pLt3IA-nDRz",
        "colab": {
          "base_uri": "https://localhost:8080/"
        },
        "outputId": "8b45d376-2945-4b9a-e8af-586ae3e81d34"
      },
      "execution_count": 3,
      "outputs": [
        {
          "output_type": "stream",
          "name": "stdout",
          "text": [
            "Requirement already satisfied: hfst in /usr/local/lib/python3.11/dist-packages (3.16.0.1)\n"
          ]
        }
      ]
    },
    {
      "cell_type": "markdown",
      "source": [
        "### Lexicon (explained)\n",
        "Multichar Symbols - tags that describe the noun forms.\n",
        "\n",
        "```\n",
        "Multichar_Symbols: +N +Sg +Pl +Nom +Gen +Dat +Acc +Ins +Pre\n",
        "\n",
        "Includes the cases in the Russian language and plural and singular forms for words.\n",
        "Russian has Nominative, Genitive, Dative, Accusative, Instrumental, Prepositional forms for nouns.\n",
        "\n",
        "```\n",
        "\n",
        "Root Lexicon\n",
        "```\n",
        "LEXICON Root\n",
        "Noun ;\n",
        "```\n",
        "\n",
        "\n",
        "Noun Lexicon (listing words)\n",
        "\n",
        "```\n",
        "LEXICON Noun\n",
        "птиц N1decl;  bird (belong to 1st declanation)\n",
        "тыкв N1decl;  pumpkin\n",
        "изб N1decl;  hut\n",
        "друг N2decl; friend (2nd declanation)\n",
        "дуб N2decl;  oak tree\n",
        "отец N2decl; father\n",
        "волк N2decl;  wolf\n",
        "мыш N3decl;  mouse (3rd declanation)\n",
        "ноч N3decl;  night\n",
        "сирен N3decl;  lilac\n",
        "\n",
        "```\n",
        "\n"
      ],
      "metadata": {
        "id": "JEZ2O8sjGHJF"
      }
    },
    {
      "cell_type": "markdown",
      "source": [
        "#### Declanation Rules (How the nouns change)\n",
        "\n",
        "```\n",
        "! In the first declanation, these are typically feminine nouns ending in -а or -я.\n",
        "\n",
        "LEXICON N1decl\n",
        "+N+Sg+Nom:^а #;\n",
        "+N+Sg+Gen:^ы  #;\n",
        "+N+Sg+Dat:^е  #;\n",
        "+N+Sg+Acc:^у  #;\n",
        "+N+Sg+Ins:^ой  #;\n",
        "+N+Sg+Pre:^е  #;\n",
        "+N+Pl+Nom:^ы  #;\n",
        "+N+Pl+Gen:^  #;\n",
        "+N+Pl+Dat:^ам  #;\n",
        "+N+Pl+Acc:^ #;\n",
        "+N+Pl+Ins:^ами  #;\n",
        "+N+Pl+Pre:^ах  #;\n",
        "\n",
        "! In the second declanation, these are typically masculine nouns ending in a consonant or -й, as well as some neutral nouns.\n",
        "\n",
        "LEXICON N2decl\n",
        "+N+Sg+Nom:^ #;\n",
        "+N+Sg+Gen:^a  #;\n",
        "+N+Sg+Dat:^у  #;\n",
        "+N+Sg+Acc:^а #;\n",
        "+N+Sg+Ins:^ом  #;\n",
        "+N+Sg+Pre:^е  #;\n",
        "+N+Pl+Nom:^ы  #;\n",
        "+N+Pl+Gen:^ов  #;\n",
        "+N+Pl+Dat:^ам  #;\n",
        "+N+Pl+Acc:^ов #;\n",
        "+N+Pl+Ins:^ами  #;\n",
        "+N+Pl+Pre:^ах  #;\n",
        "\n",
        "! In the third declanation, these are typically feminine nouns ending in ь.\n",
        "\n",
        "LEXICON N3decl\n",
        "+N+Sg+Nom:^ь  #;\n",
        "+N+Sg+Gen:^и  #;\n",
        "+N+Sg+Dat:^и  #;\n",
        "+N+Sg+Acc:^ь  #;\n",
        "+N+Sg+Ins:^ью  #;\n",
        "+N+Sg+Pre:^и  #;\n",
        "+N+Pl+Nom:^и  #;\n",
        "+N+Pl+Gen:^ей  #;\n",
        "+N+Pl+Dat:^ям  #;\n",
        "+N+Pl+Acc:^и  #;\n",
        "+N+Pl+Ins:^ями  #;\n",
        "+N+Pl+Pre:^ях  #;\n",
        "```\n"
      ],
      "metadata": {
        "id": "yMYjqdSNxiQB"
      }
    },
    {
      "cell_type": "markdown",
      "source": [
        "## Compiling the lexicon script"
      ],
      "metadata": {
        "id": "Nb_-n8cWxqcv"
      }
    },
    {
      "cell_type": "code",
      "source": [
        "# Upload lexicon from repository\n",
        "!wget https://raw.githubusercontent.com/lotockatest/FST_task/refs/heads/main/Russian.lexc"
      ],
      "metadata": {
        "id": "Nb_KEu95Hoy2",
        "colab": {
          "base_uri": "https://localhost:8080/"
        },
        "outputId": "d4d43c26-8dd4-4dcb-c224-37691d2bb9fb"
      },
      "execution_count": 8,
      "outputs": [
        {
          "output_type": "stream",
          "name": "stdout",
          "text": [
            "--2025-04-01 19:14:45--  https://raw.githubusercontent.com/lotockatest/FST_task/refs/heads/main/Russian.lexc\n",
            "Resolving raw.githubusercontent.com (raw.githubusercontent.com)... 185.199.108.133, 185.199.109.133, 185.199.110.133, ...\n",
            "Connecting to raw.githubusercontent.com (raw.githubusercontent.com)|185.199.108.133|:443... connected.\n",
            "HTTP request sent, awaiting response... 200 OK\n",
            "Length: 1035 (1.0K) [text/plain]\n",
            "Saving to: ‘Russian.lexc.3’\n",
            "\n",
            "\rRussian.lexc.3        0%[                    ]       0  --.-KB/s               \rRussian.lexc.3      100%[===================>]   1.01K  --.-KB/s    in 0s      \n",
            "\n",
            "2025-04-01 19:14:45 (55.3 MB/s) - ‘Russian.lexc.3’ saved [1035/1035]\n",
            "\n"
          ]
        }
      ]
    },
    {
      "cell_type": "code",
      "source": [
        "generator = hfst.compile_lexc_file('Russian.lexc')\n",
        "# print(generator)\n",
        "print(generator.lookup('изб+N+Sg+Nom'))"
      ],
      "metadata": {
        "id": "l_X_GHljt2fE",
        "colab": {
          "base_uri": "https://localhost:8080/"
        },
        "outputId": "9af35aa9-3604-47d8-9cd5-0b7fa09e24f8"
      },
      "execution_count": 11,
      "outputs": [
        {
          "output_type": "stream",
          "name": "stdout",
          "text": [
            "(('изб^а@_EPSILON_SYMBOL_@', 0.0),)\n"
          ]
        }
      ]
    },
    {
      "cell_type": "code",
      "source": [
        "# Insertion\n",
        "# Insert \"е\" after consonants (like г, к, х, ж, ч, ш, щ) when these consonants are followed by one of the vowels а, у, or ы and add ^ mark.\n",
        "Insert = regex(\"[. .] -> е || [г | к | х | ж | ч | ш | щ] %^ _ а | у | ы\")\n",
        "print(Insert.lookup(\"волк^и\"))"
      ],
      "metadata": {
        "id": "PePNNIvdE8Vz",
        "colab": {
          "base_uri": "https://localhost:8080/"
        },
        "outputId": "dd088be2-a7e8-4f1d-f7ae-e1278540160f"
      },
      "execution_count": 10,
      "outputs": [
        {
          "output_type": "stream",
          "name": "stdout",
          "text": [
            "(('волк^и', 0.0),)\n"
          ]
        }
      ]
    },
    {
      "cell_type": "code",
      "source": [
        "# Replacement\n",
        "# Removes the \"е\" in \"отец\" to produce \"отц\". It is a phonological simplification rule for ease of pronounciation in Russian, which applies to the specific word.\n",
        "Replace = hfst.regex(\"[отец -> отц]\")\n",
        "print(Replace.lookup(\"отец^ом\"))\n",
        "print(Replace.lookup(\"отец^у\"))"
      ],
      "metadata": {
        "id": "iqYf8kSiGB92",
        "colab": {
          "base_uri": "https://localhost:8080/"
        },
        "outputId": "e25a206d-2ff9-416c-b493-94e747a14707"
      },
      "execution_count": 12,
      "outputs": [
        {
          "output_type": "stream",
          "name": "stdout",
          "text": [
            "(('отц^ом', 0.0),)\n",
            "(('отц^у', 0.0),)\n"
          ]
        }
      ]
    },
    {
      "cell_type": "code",
      "source": [
        "# Exceptions\n",
        "# Exception for the word \"друг\". In its plural form it is \"друзья\" and does not follow typical second declanation rules in plural.\n",
        "Exceptions = hfst.regex(\"д р у г %^ ы -> д р у з ь я\")\n",
        "print(Exceptions.lookup(\"друг^ы\"))"
      ],
      "metadata": {
        "id": "6zmsbOR6fUr2",
        "colab": {
          "base_uri": "https://localhost:8080/"
        },
        "outputId": "1aa5ebf2-2af9-4094-ba64-6ce4673a41bd"
      },
      "execution_count": 13,
      "outputs": [
        {
          "output_type": "stream",
          "name": "stdout",
          "text": [
            "(('друзья', 0.0),)\n"
          ]
        }
      ]
    },
    {
      "cell_type": "code",
      "source": [
        "# Deleting\n",
        "# Ensure the text _EPSILON_SYMBOL_ is removed.\n",
        "Cleanup = hfst.regex('\"@_EPSILON_SYMBOL_@\" -> \"\"')\n",
        "print(Cleanup.lookup(\"ноч^и\"))"
      ],
      "metadata": {
        "id": "-H5KwnkOWuzZ",
        "colab": {
          "base_uri": "https://localhost:8080/"
        },
        "outputId": "621c0724-bb80-4298-8f5e-b0c4b48afbd9"
      },
      "execution_count": 21,
      "outputs": [
        {
          "output_type": "stream",
          "name": "stdout",
          "text": [
            "(('ноч^и', 0.0),)\n"
          ]
        }
      ]
    }
  ]
}